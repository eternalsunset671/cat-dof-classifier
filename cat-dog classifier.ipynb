{
 "cells": [
  {
   "cell_type": "markdown",
   "metadata": {},
   "source": [
    "### сверточная нейронная сеть для классификации кошек и собак"
   ]
  },
  {
   "cell_type": "code",
   "execution_count": null,
   "metadata": {},
   "outputs": [],
   "source": [
    "import torch\n",
    "import torchvision\n",
    "\n",
    "from torch.utils.data import Dataset, DataLoader, random_split\n",
    "\n",
    "from torchvision.transforms import v2\n",
    "\n",
    "import torch.nn as nn\n",
    "\n",
    "from torch.optim import Adam, RMSprop\n",
    "\n",
    "import os\n",
    "import numpy as np\n",
    "import matplotlib.pyplot as plt\n",
    "\n",
    "from tqdm import tqdm\n",
    "from PIL import Image"
   ]
  },
  {
   "cell_type": "code",
   "execution_count": 2,
   "metadata": {},
   "outputs": [
    {
     "data": {
      "text/plain": [
       "'cuda'"
      ]
     },
     "execution_count": 2,
     "metadata": {},
     "output_type": "execute_result"
    }
   ],
   "source": [
    "device = 'cuda' if torch.cuda.is_available() else 'cpu'\n",
    "device"
   ]
  },
  {
   "cell_type": "code",
   "execution_count": 3,
   "metadata": {},
   "outputs": [],
   "source": [
    "class Pictures(Dataset):\n",
    "    def __init__(self, path, transform=None):\n",
    "        self.path = path\n",
    "        self.transform = transform\n",
    "\n",
    "        self.len_dataset = 0\n",
    "        self.data_list = []\n",
    "\n",
    "        for path_dir, dir_list, file_list in os.walk(path):\n",
    "            if path_dir == path:\n",
    "                self.classes = dir_list\n",
    "                self.class_to_idx = {\n",
    "                    cls_name: i for i, cls_name in enumerate(self.classes)\n",
    "                }\n",
    "                continue\n",
    "            cls = path_dir.split('\\\\')[-1]\n",
    "\n",
    "            for name_file in file_list:\n",
    "                file_path = os.path.join(path_dir, name_file)\n",
    "                self.data_list.append((file_path, self.class_to_idx[cls]))\n",
    "\n",
    "            self.len_dataset += len(file_list)\n",
    "\n",
    "    def __len__(self):\n",
    "        return self.len_dataset\n",
    "\n",
    "    def __getitem__(self, index):\n",
    "        file_path, target = self.data_list[index]\n",
    "        sample = np.array(Image.open(file_path))\n",
    "\n",
    "        if self.transform is not None:\n",
    "            sample = self.transform(sample)\n",
    "            \n",
    "        return sample, target"
   ]
  },
  {
   "cell_type": "code",
   "execution_count": 4,
   "metadata": {},
   "outputs": [],
   "source": [
    "transform = v2.Compose([\n",
    "    v2.ToImage(),\n",
    "    v2.Resize(size=(150, 150), antialias=True),\n",
    "    v2.ToDtype(torch.float32, scale=True),\n",
    "    v2.Normalize(mean=(0.5, 0.5, 0.5), std=(0.5, 0.5, 0.5))\n",
    "])"
   ]
  },
  {
   "cell_type": "code",
   "execution_count": 5,
   "metadata": {},
   "outputs": [],
   "source": [
    "# import kagglehub\n",
    "\n",
    "# # Download latest version\n",
    "# path = kagglehub.dataset_download(\"d4rklucif3r/cat-and-dogs\")\n",
    "\n",
    "# print(\"Path to dataset files:\", path) "
   ]
  },
  {
   "cell_type": "code",
   "execution_count": 6,
   "metadata": {},
   "outputs": [],
   "source": [
    "test = Pictures(r'C:\\Users\\mrmax\\.cache\\kagglehub\\datasets\\d4rklucif3r\\cat-and-dogs\\versions\\1\\dataset\\test_set', transform=transform)\n",
    "data = Pictures(r'C:\\Users\\mrmax\\.cache\\kagglehub\\datasets\\d4rklucif3r\\cat-and-dogs\\versions\\1\\dataset\\training_set', transform=transform)\n",
    "train, val = random_split(data, [0.7, 0.3], generator=torch.Generator().manual_seed(42))"
   ]
  },
  {
   "cell_type": "code",
   "execution_count": 7,
   "metadata": {},
   "outputs": [],
   "source": [
    "train_loaded = DataLoader(dataset=train, batch_size=200, shuffle=True)\n",
    "val_loaded = DataLoader(dataset=val, batch_size=200, shuffle=True)\n",
    "test_loaded = DataLoader(dataset=test, batch_size=200, shuffle=True)"
   ]
  },
  {
   "cell_type": "code",
   "execution_count": null,
   "metadata": {},
   "outputs": [
    {
     "data": {
      "text/plain": [
       "28"
      ]
     },
     "execution_count": 8,
     "metadata": {},
     "output_type": "execute_result"
    }
   ],
   "source": [
    "def out(H_in, kernel_size, padding=0, dilation=1, stride=1): #функция для расчета размера свертки на выходе\n",
    "    return int(H_in + 2 * padding - dilation * (kernel_size - 1) - 1 / stride) + 1\n",
    "out(34, 7)"
   ]
  },
  {
   "cell_type": "code",
   "execution_count": 9,
   "metadata": {},
   "outputs": [],
   "source": [
    "class NeuralNetwork(nn.Module):\n",
    "    def __init__(self, input, output):\n",
    "        super().__init__()\n",
    "        self.conv_layers = nn.Sequential(\n",
    "            nn.Conv2d(input, 12, (3, 3)),                         #(batch_size, 1, 150, 150) => (batch_size, 12, 148, 148)\n",
    "            nn.ReLU(),         \n",
    "            nn.BatchNorm2d(12),                     \n",
    "            nn.MaxPool2d(kernel_size=2, padding=0),               #(batch_size, 12, 148, 148) => (batch_size, 12, 74, 74)\n",
    "            nn.Dropout2d(0.1),\n",
    "            \n",
    "            nn.Conv2d(12, 25, (7, 7)),                            #(batch_size, 12, 74, 74) => (batch_size, 25, 68, 68)\n",
    "            nn.ReLU(),\n",
    "            nn.BatchNorm2d(25),\n",
    "            nn.MaxPool2d(kernel_size=2, padding=0),               #batch_size, 25, 68, 68) => (batch_size, 25, 34, 34)\n",
    "            nn.Dropout2d(0.1),\n",
    "\n",
    "            nn.Conv2d(25, 33, (7, 7)),                            #(batch_size, 25, 34, 34) => (batch_size, 33, 28, 28)\n",
    "            nn.ReLU(),\n",
    "            nn.BatchNorm2d(33),\n",
    "            nn.MaxPool2d(kernel_size=2, padding=0),               #(batch_size, 33, 28, 28) => (batch_size, 33, 14, 14)\n",
    "            nn.Dropout2d(0.1),\n",
    "            \n",
    "            # nn.Flatten(),                                       #(batch_size, 33*14*14)\n",
    "            nn.AdaptiveAvgPool2d((3, 3))\n",
    "        )                                      \n",
    "\n",
    "        self.classifier = nn.Sequential(\n",
    "            nn.Linear(33*3*3, 150),\n",
    "            # nn.BatchNorm1d(300),\n",
    "            nn.Dropout(0.6),\n",
    "            nn.ReLU(),\n",
    "            nn.Linear(150, 75),\n",
    "            # nn.BatchNorm1d(150),\n",
    "            nn.Dropout(0.7),\n",
    "            nn.ReLU(),\n",
    "            nn.Linear(75, 30),\n",
    "            # nn.BatchNorm1d(30),\n",
    "            nn.Dropout(0.6),\n",
    "            nn.ReLU(),\n",
    "            nn.Linear(30, output),\n",
    "            nn.Dropout(0.4),\n",
    "            nn.Sigmoid()\n",
    "        )\n",
    "\n",
    "\n",
    "    def forward(self, x):\n",
    "        y = self.conv_layers(x)\n",
    "        y = y.view(y.size(0), -1)\n",
    "        y = self.classifier(y)\n",
    "        return y\n",
    "\n",
    "model = NeuralNetwork(3, 2).to(device)"
   ]
  },
  {
   "cell_type": "code",
   "execution_count": null,
   "metadata": {},
   "outputs": [],
   "source": [
    "\n",
    "loss_func = nn.BCELoss().to(device)  #Binary cross-entropy для бинарной классификации\n",
    "opt = Adam(model.parameters(), lr=1e-3)\n",
    "lr_scheduler = torch.optim.lr_scheduler.ExponentialLR(opt, gamma=0.1)"
   ]
  },
  {
   "cell_type": "code",
   "execution_count": 11,
   "metadata": {},
   "outputs": [],
   "source": [
    "class Train:\n",
    "    def __init__(self, model, EPOCHS=5, name_for_save='model'):\n",
    "        self.model = model\n",
    "        self.mean_train_loss = []\n",
    "        self.mean_train_acc = []\n",
    "        self.mean_val_loss = []\n",
    "        self.mean_val_acc = []\n",
    "        \n",
    "\n",
    "        threshold = 0.01\n",
    "\n",
    "        maxAcc = -1\n",
    "        for epoch in range(EPOCHS):\n",
    "            self.model.train()\n",
    "\n",
    "            accuracies = []\n",
    "            losses = []\n",
    "            train_loop = tqdm(train_loaded, leave=False)\n",
    "            for i, data in enumerate(train_loop):\n",
    "                x = data[0].to(torch.float32).to(device)\n",
    "                targets = data[1]\n",
    "\n",
    "                targets = targets.reshape(-1).to(torch.int32)\n",
    "                targets = torch.eye(2)[targets].to(device)\n",
    "\n",
    "                pred = self.model(x)\n",
    "                loss = loss_func(pred, targets)\n",
    "                acc = self.accuracy(pred, targets)\n",
    "\n",
    "                accuracies.append(acc)\n",
    "                losses.append(loss.item())\n",
    "\n",
    "                if i % 100 == 0:\n",
    "                    print(f'epoch {epoch}   iteration {i+epoch*len(train_loaded)}, train accuracy: {acc:.2f}, loss: {loss:.4f}')\n",
    "\n",
    "                opt.zero_grad()\n",
    "                loss.backward()\n",
    "                opt.step()\n",
    "\n",
    "            acc_mean = np.mean(np.array(accuracies))\n",
    "            self.mean_train_acc.append(acc_mean)\n",
    "\n",
    "            los_mean = np.mean(np.array(losses))\n",
    "            self.mean_train_loss.append(los_mean)\n",
    "\n",
    "\n",
    "            print()\n",
    "            print('='*50)\n",
    "\n",
    "            self.model.eval()\n",
    "\n",
    "            accuracies = []\n",
    "            losses = []\n",
    "            for i, data in enumerate(val_loaded):\n",
    "                x = data[0].to(torch.float32).to(device)\n",
    "                targets = data[1]\n",
    "\n",
    "                targets = targets.reshape(-1).to(torch.int32)\n",
    "                targets = torch.eye(2)[targets].to(device)\n",
    "\n",
    "                pred = self.model(x)\n",
    "                loss = loss_func(pred, targets)\n",
    "\n",
    "                accuracies.append(self.accuracy(pred, targets))\n",
    "                losses.append(loss.item())\n",
    "\n",
    "            acc_mean = np.mean(np.array(accuracies))\n",
    "            self.mean_val_acc.append(acc_mean)\n",
    "\n",
    "            los_mean = np.mean(np.array(losses))\n",
    "            self.mean_val_loss.append(los_mean)\n",
    "            print(f'epoch {epoch}')\n",
    "            print(f'validation accuracy - {acc_mean:.2f}')\n",
    "            print(f'validation loss\\t- {los_mean:.4f}')\n",
    "            \n",
    "            if acc_mean - threshold > maxAcc and acc_mean >= 0.7:\n",
    "                maxAcc = acc_mean\n",
    "                torch.save(self.model.state_dict(), f'models/{name_for_save}_{epoch}_{maxAcc:.2f}.pth')\n",
    "                print(f'model is saved because mean_accuracy = {acc_mean:.2f} and it\\'s best')\n",
    "\n",
    "            print('='*50)\n",
    "            print()\n",
    "\n",
    "            if epoch + 1 % 10 == 0:\n",
    "                lr_scheduler.step()\n",
    "\n",
    "    def get_model(self):\n",
    "        return self.model\n",
    "\n",
    "    def accuracy(self, output, labels):\n",
    "        pred = torch.argmax(output, dim=1)\n",
    "        corrects = (pred == labels.argmax(dim=1)).sum().item()\n",
    "        return corrects / len(labels)\n",
    "    \n",
    "    def acc_plot_show(self):\n",
    "        plt.plot(self.mean_train_acc)\n",
    "        plt.plot(self.mean_val_acc)\n",
    "        plt.legend(['acc_train', 'acc_val'])\n",
    "        plt.show()\n",
    "\n",
    "    def loss_plot_show(self):\n",
    "        plt.plot(self.mean_train_loss)\n",
    "        plt.plot(self.mean_val_loss)\n",
    "        plt.legend(['loss_train', 'loss_val'])\n",
    "        plt.show()\n",
    "\n"
   ]
  },
  {
   "cell_type": "code",
   "execution_count": null,
   "metadata": {},
   "outputs": [],
   "source": []
  },
  {
   "cell_type": "code",
   "execution_count": 12,
   "metadata": {},
   "outputs": [],
   "source": [
    "class Test:\n",
    "    def __init__(self, model):\n",
    "        self.model = model\n",
    "        accuracies = []\n",
    "\n",
    "        self.model.eval()\n",
    "        with torch.no_grad():\n",
    "\n",
    "            test_loop = tqdm(test_loaded, leave=False)\n",
    "            for i, data in enumerate(test_loop):\n",
    "                x = data[0].to(torch.float32).to(device)\n",
    "                targets = data[1].reshape(-1).to(torch.int64).to(device)\n",
    "\n",
    "                pred = self.model(x)\n",
    "\n",
    "                accuracies.append(self.accuracy(pred, targets))\n",
    "\n",
    "\n",
    "            acc_mean = np.mean(np.array(accuracies))\n",
    "            print(f'test accuracy - {acc_mean:.2f}')\n",
    "\n",
    "    def accuracy(self, output, labels):\n",
    "        pred = torch.argmax(output, dim=1)\n",
    "        corrects = (pred == labels).sum().item()\n",
    "        return corrects / len(labels)"
   ]
  },
  {
   "cell_type": "markdown",
   "metadata": {},
   "source": [
    "#### Обучим модель"
   ]
  },
  {
   "cell_type": "code",
   "execution_count": 13,
   "metadata": {},
   "outputs": [
    {
     "name": "stderr",
     "output_type": "stream",
     "text": [
      "  0%|          | 0/28 [00:00<?, ?it/s]"
     ]
    },
    {
     "name": "stdout",
     "output_type": "stream",
     "text": [
      "epoch 0   iteration 0, train accuracy: 0.48, loss: 0.7012\n"
     ]
    },
    {
     "name": "stderr",
     "output_type": "stream",
     "text": [
      "                                               \r"
     ]
    },
    {
     "name": "stdout",
     "output_type": "stream",
     "text": [
      "\n",
      "==================================================\n",
      "epoch 0\n",
      "validation accuracy - 0.51\n",
      "validation loss\t- 0.6929\n",
      "==================================================\n",
      "\n"
     ]
    },
    {
     "name": "stderr",
     "output_type": "stream",
     "text": [
      "  4%|▎         | 1/28 [00:00<00:18,  1.43it/s]"
     ]
    },
    {
     "name": "stdout",
     "output_type": "stream",
     "text": [
      "epoch 1   iteration 28, train accuracy: 0.49, loss: 0.6960\n"
     ]
    },
    {
     "name": "stderr",
     "output_type": "stream",
     "text": [
      "                                               \r"
     ]
    },
    {
     "name": "stdout",
     "output_type": "stream",
     "text": [
      "\n",
      "==================================================\n",
      "epoch 1\n",
      "validation accuracy - 0.58\n",
      "validation loss\t- 0.6913\n",
      "==================================================\n",
      "\n"
     ]
    },
    {
     "name": "stderr",
     "output_type": "stream",
     "text": [
      "  4%|▎         | 1/28 [00:00<00:23,  1.15it/s]"
     ]
    },
    {
     "name": "stdout",
     "output_type": "stream",
     "text": [
      "epoch 2   iteration 56, train accuracy: 0.47, loss: 0.6968\n"
     ]
    },
    {
     "name": "stderr",
     "output_type": "stream",
     "text": [
      "                                               \r"
     ]
    },
    {
     "name": "stdout",
     "output_type": "stream",
     "text": [
      "\n",
      "==================================================\n",
      "epoch 2\n",
      "validation accuracy - 0.59\n",
      "validation loss\t- 0.6885\n",
      "==================================================\n",
      "\n"
     ]
    },
    {
     "name": "stderr",
     "output_type": "stream",
     "text": [
      "  4%|▎         | 1/28 [00:00<00:19,  1.41it/s]"
     ]
    },
    {
     "name": "stdout",
     "output_type": "stream",
     "text": [
      "epoch 3   iteration 84, train accuracy: 0.51, loss: 0.6929\n"
     ]
    },
    {
     "name": "stderr",
     "output_type": "stream",
     "text": [
      "                                               \r"
     ]
    },
    {
     "name": "stdout",
     "output_type": "stream",
     "text": [
      "\n",
      "==================================================\n",
      "epoch 3\n",
      "validation accuracy - 0.62\n",
      "validation loss\t- 0.6774\n",
      "==================================================\n",
      "\n"
     ]
    },
    {
     "name": "stderr",
     "output_type": "stream",
     "text": [
      "  4%|▎         | 1/28 [00:00<00:24,  1.11it/s]"
     ]
    },
    {
     "name": "stdout",
     "output_type": "stream",
     "text": [
      "epoch 4   iteration 112, train accuracy: 0.52, loss: 0.6826\n"
     ]
    },
    {
     "name": "stderr",
     "output_type": "stream",
     "text": [
      "                                               \r"
     ]
    },
    {
     "name": "stdout",
     "output_type": "stream",
     "text": [
      "\n",
      "==================================================\n",
      "epoch 4\n",
      "validation accuracy - 0.63\n",
      "validation loss\t- 0.6660\n",
      "==================================================\n",
      "\n"
     ]
    },
    {
     "name": "stderr",
     "output_type": "stream",
     "text": [
      "  4%|▎         | 1/28 [00:00<00:25,  1.05it/s]"
     ]
    },
    {
     "name": "stdout",
     "output_type": "stream",
     "text": [
      "epoch 5   iteration 140, train accuracy: 0.56, loss: 0.6894\n"
     ]
    },
    {
     "name": "stderr",
     "output_type": "stream",
     "text": [
      "                                               \r"
     ]
    },
    {
     "name": "stdout",
     "output_type": "stream",
     "text": [
      "\n",
      "==================================================\n",
      "epoch 5\n",
      "validation accuracy - 0.66\n",
      "validation loss\t- 0.6530\n",
      "==================================================\n",
      "\n"
     ]
    },
    {
     "name": "stderr",
     "output_type": "stream",
     "text": [
      "  4%|▎         | 1/28 [00:00<00:19,  1.42it/s]"
     ]
    },
    {
     "name": "stdout",
     "output_type": "stream",
     "text": [
      "epoch 6   iteration 168, train accuracy: 0.56, loss: 0.6584\n"
     ]
    },
    {
     "name": "stderr",
     "output_type": "stream",
     "text": [
      "                                               \r"
     ]
    },
    {
     "name": "stdout",
     "output_type": "stream",
     "text": [
      "\n",
      "==================================================\n",
      "epoch 6\n",
      "validation accuracy - 0.67\n",
      "validation loss\t- 0.6396\n",
      "==================================================\n",
      "\n"
     ]
    },
    {
     "name": "stderr",
     "output_type": "stream",
     "text": [
      "  4%|▎         | 1/28 [00:00<00:19,  1.40it/s]"
     ]
    },
    {
     "name": "stdout",
     "output_type": "stream",
     "text": [
      "epoch 7   iteration 196, train accuracy: 0.62, loss: 0.6661\n"
     ]
    },
    {
     "name": "stderr",
     "output_type": "stream",
     "text": [
      "                                               \r"
     ]
    },
    {
     "name": "stdout",
     "output_type": "stream",
     "text": [
      "\n",
      "==================================================\n",
      "epoch 7\n",
      "validation accuracy - 0.69\n",
      "validation loss\t- 0.6286\n",
      "==================================================\n",
      "\n"
     ]
    },
    {
     "name": "stderr",
     "output_type": "stream",
     "text": [
      "  4%|▎         | 1/28 [00:00<00:19,  1.35it/s]"
     ]
    },
    {
     "name": "stdout",
     "output_type": "stream",
     "text": [
      "epoch 8   iteration 224, train accuracy: 0.61, loss: 0.6488\n"
     ]
    },
    {
     "name": "stderr",
     "output_type": "stream",
     "text": [
      "                                               \r"
     ]
    },
    {
     "name": "stdout",
     "output_type": "stream",
     "text": [
      "\n",
      "==================================================\n",
      "epoch 8\n",
      "validation accuracy - 0.71\n",
      "validation loss\t- 0.6203\n",
      "model is saved because mean_accuracy = 0.71 and it's best\n",
      "==================================================\n",
      "\n"
     ]
    },
    {
     "name": "stderr",
     "output_type": "stream",
     "text": [
      "  4%|▎         | 1/28 [00:00<00:11,  2.41it/s]"
     ]
    },
    {
     "name": "stdout",
     "output_type": "stream",
     "text": [
      "epoch 9   iteration 252, train accuracy: 0.61, loss: 0.6571\n"
     ]
    },
    {
     "name": "stderr",
     "output_type": "stream",
     "text": [
      "                                               \r"
     ]
    },
    {
     "name": "stdout",
     "output_type": "stream",
     "text": [
      "\n",
      "==================================================\n",
      "epoch 9\n",
      "validation accuracy - 0.72\n",
      "validation loss\t- 0.5809\n",
      "model is saved because mean_accuracy = 0.72 and it's best\n",
      "==================================================\n",
      "\n"
     ]
    },
    {
     "name": "stderr",
     "output_type": "stream",
     "text": [
      "  4%|▎         | 1/28 [00:00<00:17,  1.54it/s]"
     ]
    },
    {
     "name": "stdout",
     "output_type": "stream",
     "text": [
      "epoch 10   iteration 280, train accuracy: 0.65, loss: 0.6461\n"
     ]
    },
    {
     "name": "stderr",
     "output_type": "stream",
     "text": [
      "                                               \r"
     ]
    },
    {
     "name": "stdout",
     "output_type": "stream",
     "text": [
      "\n",
      "==================================================\n",
      "epoch 10\n",
      "validation accuracy - 0.72\n",
      "validation loss\t- 0.5931\n",
      "==================================================\n",
      "\n"
     ]
    },
    {
     "name": "stderr",
     "output_type": "stream",
     "text": [
      "  4%|▎         | 1/28 [00:00<00:16,  1.63it/s]"
     ]
    },
    {
     "name": "stdout",
     "output_type": "stream",
     "text": [
      "epoch 11   iteration 308, train accuracy: 0.70, loss: 0.6284\n"
     ]
    },
    {
     "name": "stderr",
     "output_type": "stream",
     "text": [
      "                                               \r"
     ]
    },
    {
     "name": "stdout",
     "output_type": "stream",
     "text": [
      "\n",
      "==================================================\n",
      "epoch 11\n",
      "validation accuracy - 0.73\n",
      "validation loss\t- 0.5655\n",
      "==================================================\n",
      "\n"
     ]
    },
    {
     "name": "stderr",
     "output_type": "stream",
     "text": [
      "  4%|▎         | 1/28 [00:00<00:19,  1.37it/s]"
     ]
    },
    {
     "name": "stdout",
     "output_type": "stream",
     "text": [
      "epoch 12   iteration 336, train accuracy: 0.73, loss: 0.5850\n"
     ]
    },
    {
     "name": "stderr",
     "output_type": "stream",
     "text": [
      "                                               \r"
     ]
    },
    {
     "name": "stdout",
     "output_type": "stream",
     "text": [
      "\n",
      "==================================================\n",
      "epoch 12\n",
      "validation accuracy - 0.71\n",
      "validation loss\t- 0.5724\n",
      "==================================================\n",
      "\n"
     ]
    },
    {
     "name": "stderr",
     "output_type": "stream",
     "text": [
      "  4%|▎         | 1/28 [00:00<00:16,  1.60it/s]"
     ]
    },
    {
     "name": "stdout",
     "output_type": "stream",
     "text": [
      "epoch 13   iteration 364, train accuracy: 0.69, loss: 0.5986\n"
     ]
    },
    {
     "name": "stderr",
     "output_type": "stream",
     "text": [
      "                                               \r"
     ]
    },
    {
     "name": "stdout",
     "output_type": "stream",
     "text": [
      "\n",
      "==================================================\n",
      "epoch 13\n",
      "validation accuracy - 0.75\n",
      "validation loss\t- 0.5437\n",
      "model is saved because mean_accuracy = 0.75 and it's best\n",
      "==================================================\n",
      "\n"
     ]
    },
    {
     "name": "stderr",
     "output_type": "stream",
     "text": [
      "  4%|▎         | 1/28 [00:00<00:16,  1.66it/s]"
     ]
    },
    {
     "name": "stdout",
     "output_type": "stream",
     "text": [
      "epoch 14   iteration 392, train accuracy: 0.77, loss: 0.5573\n"
     ]
    },
    {
     "name": "stderr",
     "output_type": "stream",
     "text": [
      "                                               \r"
     ]
    },
    {
     "name": "stdout",
     "output_type": "stream",
     "text": [
      "\n",
      "==================================================\n",
      "epoch 14\n",
      "validation accuracy - 0.76\n",
      "validation loss\t- 0.5295\n",
      "==================================================\n",
      "\n"
     ]
    },
    {
     "name": "stderr",
     "output_type": "stream",
     "text": [
      "  4%|▎         | 1/28 [00:00<00:18,  1.46it/s]"
     ]
    },
    {
     "name": "stdout",
     "output_type": "stream",
     "text": [
      "epoch 15   iteration 420, train accuracy: 0.67, loss: 0.6585\n"
     ]
    },
    {
     "name": "stderr",
     "output_type": "stream",
     "text": [
      "                                               \r"
     ]
    },
    {
     "name": "stdout",
     "output_type": "stream",
     "text": [
      "\n",
      "==================================================\n",
      "epoch 15\n",
      "validation accuracy - 0.76\n",
      "validation loss\t- 0.5331\n",
      "==================================================\n",
      "\n"
     ]
    },
    {
     "name": "stderr",
     "output_type": "stream",
     "text": [
      "  4%|▎         | 1/28 [00:00<00:19,  1.39it/s]"
     ]
    },
    {
     "name": "stdout",
     "output_type": "stream",
     "text": [
      "epoch 16   iteration 448, train accuracy: 0.72, loss: 0.5940\n"
     ]
    },
    {
     "name": "stderr",
     "output_type": "stream",
     "text": [
      "                                               \r"
     ]
    },
    {
     "name": "stdout",
     "output_type": "stream",
     "text": [
      "\n",
      "==================================================\n",
      "epoch 16\n",
      "validation accuracy - 0.77\n",
      "validation loss\t- 0.5142\n",
      "model is saved because mean_accuracy = 0.77 and it's best\n",
      "==================================================\n",
      "\n"
     ]
    },
    {
     "name": "stderr",
     "output_type": "stream",
     "text": [
      "  4%|▎         | 1/28 [00:00<00:21,  1.28it/s]"
     ]
    },
    {
     "name": "stdout",
     "output_type": "stream",
     "text": [
      "epoch 17   iteration 476, train accuracy: 0.68, loss: 0.5910\n"
     ]
    },
    {
     "name": "stderr",
     "output_type": "stream",
     "text": [
      "                                               \r"
     ]
    },
    {
     "name": "stdout",
     "output_type": "stream",
     "text": [
      "\n",
      "==================================================\n",
      "epoch 17\n",
      "validation accuracy - 0.78\n",
      "validation loss\t- 0.5132\n",
      "model is saved because mean_accuracy = 0.78 and it's best\n",
      "==================================================\n",
      "\n"
     ]
    },
    {
     "name": "stderr",
     "output_type": "stream",
     "text": [
      "  4%|▎         | 1/28 [00:00<00:19,  1.39it/s]"
     ]
    },
    {
     "name": "stdout",
     "output_type": "stream",
     "text": [
      "epoch 18   iteration 504, train accuracy: 0.73, loss: 0.5491\n"
     ]
    },
    {
     "name": "stderr",
     "output_type": "stream",
     "text": [
      "                                               \r"
     ]
    },
    {
     "name": "stdout",
     "output_type": "stream",
     "text": [
      "\n",
      "==================================================\n",
      "epoch 18\n",
      "validation accuracy - 0.77\n",
      "validation loss\t- 0.5177\n",
      "==================================================\n",
      "\n"
     ]
    },
    {
     "name": "stderr",
     "output_type": "stream",
     "text": [
      "  4%|▎         | 1/28 [00:00<00:19,  1.39it/s]"
     ]
    },
    {
     "name": "stdout",
     "output_type": "stream",
     "text": [
      "epoch 19   iteration 532, train accuracy: 0.69, loss: 0.6062\n"
     ]
    },
    {
     "name": "stderr",
     "output_type": "stream",
     "text": [
      "                                               \r"
     ]
    },
    {
     "name": "stdout",
     "output_type": "stream",
     "text": [
      "\n",
      "==================================================\n",
      "epoch 19\n",
      "validation accuracy - 0.78\n",
      "validation loss\t- 0.4960\n",
      "==================================================\n",
      "\n"
     ]
    },
    {
     "name": "stderr",
     "output_type": "stream",
     "text": [
      "  4%|▎         | 1/28 [00:00<00:20,  1.35it/s]"
     ]
    },
    {
     "name": "stdout",
     "output_type": "stream",
     "text": [
      "epoch 20   iteration 560, train accuracy: 0.78, loss: 0.5450\n"
     ]
    },
    {
     "name": "stderr",
     "output_type": "stream",
     "text": [
      "                                               \r"
     ]
    },
    {
     "name": "stdout",
     "output_type": "stream",
     "text": [
      "\n",
      "==================================================\n",
      "epoch 20\n",
      "validation accuracy - 0.78\n",
      "validation loss\t- 0.4864\n",
      "==================================================\n",
      "\n"
     ]
    },
    {
     "name": "stderr",
     "output_type": "stream",
     "text": [
      "  4%|▎         | 1/28 [00:00<00:22,  1.21it/s]"
     ]
    },
    {
     "name": "stdout",
     "output_type": "stream",
     "text": [
      "epoch 21   iteration 588, train accuracy: 0.72, loss: 0.5745\n"
     ]
    },
    {
     "name": "stderr",
     "output_type": "stream",
     "text": [
      "                                               \r"
     ]
    },
    {
     "name": "stdout",
     "output_type": "stream",
     "text": [
      "\n",
      "==================================================\n",
      "epoch 21\n",
      "validation accuracy - 0.80\n",
      "validation loss\t- 0.4802\n",
      "model is saved because mean_accuracy = 0.80 and it's best\n",
      "==================================================\n",
      "\n"
     ]
    },
    {
     "name": "stderr",
     "output_type": "stream",
     "text": [
      "  4%|▎         | 1/28 [00:00<00:19,  1.35it/s]"
     ]
    },
    {
     "name": "stdout",
     "output_type": "stream",
     "text": [
      "epoch 22   iteration 616, train accuracy: 0.80, loss: 0.5380\n"
     ]
    },
    {
     "name": "stderr",
     "output_type": "stream",
     "text": [
      "                                               \r"
     ]
    },
    {
     "name": "stdout",
     "output_type": "stream",
     "text": [
      "\n",
      "==================================================\n",
      "epoch 22\n",
      "validation accuracy - 0.81\n",
      "validation loss\t- 0.4660\n",
      "==================================================\n",
      "\n"
     ]
    },
    {
     "name": "stderr",
     "output_type": "stream",
     "text": [
      "  4%|▎         | 1/28 [00:00<00:17,  1.50it/s]"
     ]
    },
    {
     "name": "stdout",
     "output_type": "stream",
     "text": [
      "epoch 23   iteration 644, train accuracy: 0.74, loss: 0.5425\n"
     ]
    },
    {
     "name": "stderr",
     "output_type": "stream",
     "text": [
      "                                               \r"
     ]
    },
    {
     "name": "stdout",
     "output_type": "stream",
     "text": [
      "\n",
      "==================================================\n",
      "epoch 23\n",
      "validation accuracy - 0.80\n",
      "validation loss\t- 0.4654\n",
      "==================================================\n",
      "\n"
     ]
    },
    {
     "name": "stderr",
     "output_type": "stream",
     "text": [
      "  4%|▎         | 1/28 [00:00<00:19,  1.39it/s]"
     ]
    },
    {
     "name": "stdout",
     "output_type": "stream",
     "text": [
      "epoch 24   iteration 672, train accuracy: 0.74, loss: 0.5126\n"
     ]
    },
    {
     "name": "stderr",
     "output_type": "stream",
     "text": [
      "                                               \r"
     ]
    },
    {
     "name": "stdout",
     "output_type": "stream",
     "text": [
      "\n",
      "==================================================\n",
      "epoch 24\n",
      "validation accuracy - 0.81\n",
      "validation loss\t- 0.4449\n",
      "==================================================\n",
      "\n"
     ]
    },
    {
     "name": "stderr",
     "output_type": "stream",
     "text": [
      "  4%|▎         | 1/28 [00:00<00:19,  1.39it/s]"
     ]
    },
    {
     "name": "stdout",
     "output_type": "stream",
     "text": [
      "epoch 25   iteration 700, train accuracy: 0.78, loss: 0.5284\n"
     ]
    },
    {
     "name": "stderr",
     "output_type": "stream",
     "text": [
      "                                               \r"
     ]
    },
    {
     "name": "stdout",
     "output_type": "stream",
     "text": [
      "\n",
      "==================================================\n",
      "epoch 25\n",
      "validation accuracy - 0.79\n",
      "validation loss\t- 0.4456\n",
      "==================================================\n",
      "\n"
     ]
    },
    {
     "name": "stderr",
     "output_type": "stream",
     "text": [
      "  4%|▎         | 1/28 [00:00<00:18,  1.48it/s]"
     ]
    },
    {
     "name": "stdout",
     "output_type": "stream",
     "text": [
      "epoch 26   iteration 728, train accuracy: 0.76, loss: 0.5581\n"
     ]
    },
    {
     "name": "stderr",
     "output_type": "stream",
     "text": [
      "                                               \r"
     ]
    },
    {
     "name": "stdout",
     "output_type": "stream",
     "text": [
      "\n",
      "==================================================\n",
      "epoch 26\n",
      "validation accuracy - 0.81\n",
      "validation loss\t- 0.4412\n",
      "model is saved because mean_accuracy = 0.81 and it's best\n",
      "==================================================\n",
      "\n"
     ]
    },
    {
     "name": "stderr",
     "output_type": "stream",
     "text": [
      "  4%|▎         | 1/28 [00:00<00:24,  1.12it/s]"
     ]
    },
    {
     "name": "stdout",
     "output_type": "stream",
     "text": [
      "epoch 27   iteration 756, train accuracy: 0.76, loss: 0.4999\n"
     ]
    },
    {
     "name": "stderr",
     "output_type": "stream",
     "text": [
      "                                               \r"
     ]
    },
    {
     "name": "stdout",
     "output_type": "stream",
     "text": [
      "\n",
      "==================================================\n",
      "epoch 27\n",
      "validation accuracy - 0.82\n",
      "validation loss\t- 0.4295\n",
      "==================================================\n",
      "\n"
     ]
    },
    {
     "name": "stderr",
     "output_type": "stream",
     "text": [
      "  4%|▎         | 1/28 [00:00<00:19,  1.39it/s]"
     ]
    },
    {
     "name": "stdout",
     "output_type": "stream",
     "text": [
      "epoch 28   iteration 784, train accuracy: 0.78, loss: 0.5032\n"
     ]
    },
    {
     "name": "stderr",
     "output_type": "stream",
     "text": [
      "                                               \r"
     ]
    },
    {
     "name": "stdout",
     "output_type": "stream",
     "text": [
      "\n",
      "==================================================\n",
      "epoch 28\n",
      "validation accuracy - 0.82\n",
      "validation loss\t- 0.4297\n",
      "==================================================\n",
      "\n"
     ]
    },
    {
     "name": "stderr",
     "output_type": "stream",
     "text": [
      "  4%|▎         | 1/28 [00:00<00:19,  1.38it/s]"
     ]
    },
    {
     "name": "stdout",
     "output_type": "stream",
     "text": [
      "epoch 29   iteration 812, train accuracy: 0.79, loss: 0.5081\n"
     ]
    },
    {
     "name": "stderr",
     "output_type": "stream",
     "text": [
      "                                               \r"
     ]
    },
    {
     "name": "stdout",
     "output_type": "stream",
     "text": [
      "\n",
      "==================================================\n",
      "epoch 29\n",
      "validation accuracy - 0.82\n",
      "validation loss\t- 0.4068\n",
      "model is saved because mean_accuracy = 0.82 and it's best\n",
      "==================================================\n",
      "\n"
     ]
    },
    {
     "name": "stderr",
     "output_type": "stream",
     "text": [
      "  4%|▎         | 1/28 [00:00<00:22,  1.18it/s]"
     ]
    },
    {
     "name": "stdout",
     "output_type": "stream",
     "text": [
      "epoch 30   iteration 840, train accuracy: 0.79, loss: 0.4566\n"
     ]
    },
    {
     "name": "stderr",
     "output_type": "stream",
     "text": [
      "                                               \r"
     ]
    },
    {
     "name": "stdout",
     "output_type": "stream",
     "text": [
      "\n",
      "==================================================\n",
      "epoch 30\n",
      "validation accuracy - 0.82\n",
      "validation loss\t- 0.4245\n",
      "==================================================\n",
      "\n"
     ]
    },
    {
     "name": "stderr",
     "output_type": "stream",
     "text": [
      "  4%|▎         | 1/28 [00:00<00:19,  1.41it/s]"
     ]
    },
    {
     "name": "stdout",
     "output_type": "stream",
     "text": [
      "epoch 31   iteration 868, train accuracy: 0.81, loss: 0.4764\n"
     ]
    },
    {
     "name": "stderr",
     "output_type": "stream",
     "text": [
      "                                               \r"
     ]
    },
    {
     "name": "stdout",
     "output_type": "stream",
     "text": [
      "\n",
      "==================================================\n",
      "epoch 31\n",
      "validation accuracy - 0.82\n",
      "validation loss\t- 0.3934\n",
      "==================================================\n",
      "\n"
     ]
    },
    {
     "name": "stderr",
     "output_type": "stream",
     "text": [
      "  4%|▎         | 1/28 [00:00<00:19,  1.42it/s]"
     ]
    },
    {
     "name": "stdout",
     "output_type": "stream",
     "text": [
      "epoch 32   iteration 896, train accuracy: 0.79, loss: 0.4804\n"
     ]
    },
    {
     "name": "stderr",
     "output_type": "stream",
     "text": [
      "                                               \r"
     ]
    },
    {
     "name": "stdout",
     "output_type": "stream",
     "text": [
      "\n",
      "==================================================\n",
      "epoch 32\n",
      "validation accuracy - 0.83\n",
      "validation loss\t- 0.3986\n",
      "==================================================\n",
      "\n"
     ]
    },
    {
     "name": "stderr",
     "output_type": "stream",
     "text": [
      "  4%|▎         | 1/28 [00:00<00:18,  1.42it/s]"
     ]
    },
    {
     "name": "stdout",
     "output_type": "stream",
     "text": [
      "epoch 33   iteration 924, train accuracy: 0.78, loss: 0.4605\n"
     ]
    },
    {
     "name": "stderr",
     "output_type": "stream",
     "text": [
      "                                               \r"
     ]
    },
    {
     "name": "stdout",
     "output_type": "stream",
     "text": [
      "\n",
      "==================================================\n",
      "epoch 33\n",
      "validation accuracy - 0.83\n",
      "validation loss\t- 0.3815\n",
      "==================================================\n",
      "\n"
     ]
    },
    {
     "name": "stderr",
     "output_type": "stream",
     "text": [
      "  4%|▎         | 1/28 [00:00<00:19,  1.37it/s]"
     ]
    },
    {
     "name": "stdout",
     "output_type": "stream",
     "text": [
      "epoch 34   iteration 952, train accuracy: 0.79, loss: 0.5050\n"
     ]
    },
    {
     "name": "stderr",
     "output_type": "stream",
     "text": [
      "                                               \r"
     ]
    },
    {
     "name": "stdout",
     "output_type": "stream",
     "text": [
      "\n",
      "==================================================\n",
      "epoch 34\n",
      "validation accuracy - 0.82\n",
      "validation loss\t- 0.3922\n",
      "==================================================\n",
      "\n"
     ]
    },
    {
     "name": "stderr",
     "output_type": "stream",
     "text": [
      "  4%|▎         | 1/28 [00:00<00:19,  1.39it/s]"
     ]
    },
    {
     "name": "stdout",
     "output_type": "stream",
     "text": [
      "epoch 35   iteration 980, train accuracy: 0.80, loss: 0.4967\n"
     ]
    },
    {
     "name": "stderr",
     "output_type": "stream",
     "text": [
      "                                               \r"
     ]
    },
    {
     "name": "stdout",
     "output_type": "stream",
     "text": [
      "\n",
      "==================================================\n",
      "epoch 35\n",
      "validation accuracy - 0.82\n",
      "validation loss\t- 0.3958\n",
      "==================================================\n",
      "\n"
     ]
    },
    {
     "name": "stderr",
     "output_type": "stream",
     "text": [
      "  4%|▎         | 1/28 [00:00<00:19,  1.40it/s]"
     ]
    },
    {
     "name": "stdout",
     "output_type": "stream",
     "text": [
      "epoch 36   iteration 1008, train accuracy: 0.82, loss: 0.4837\n"
     ]
    },
    {
     "name": "stderr",
     "output_type": "stream",
     "text": [
      "                                               \r"
     ]
    },
    {
     "name": "stdout",
     "output_type": "stream",
     "text": [
      "\n",
      "==================================================\n",
      "epoch 36\n",
      "validation accuracy - 0.83\n",
      "validation loss\t- 0.3769\n",
      "model is saved because mean_accuracy = 0.83 and it's best\n",
      "==================================================\n",
      "\n"
     ]
    },
    {
     "name": "stderr",
     "output_type": "stream",
     "text": [
      "  4%|▎         | 1/28 [00:00<00:20,  1.34it/s]"
     ]
    },
    {
     "name": "stdout",
     "output_type": "stream",
     "text": [
      "epoch 37   iteration 1036, train accuracy: 0.79, loss: 0.4747\n"
     ]
    },
    {
     "name": "stderr",
     "output_type": "stream",
     "text": [
      "                                               \r"
     ]
    },
    {
     "name": "stdout",
     "output_type": "stream",
     "text": [
      "\n",
      "==================================================\n",
      "epoch 37\n",
      "validation accuracy - 0.83\n",
      "validation loss\t- 0.3757\n",
      "==================================================\n",
      "\n"
     ]
    },
    {
     "name": "stderr",
     "output_type": "stream",
     "text": [
      "  4%|▎         | 1/28 [00:00<00:18,  1.48it/s]"
     ]
    },
    {
     "name": "stdout",
     "output_type": "stream",
     "text": [
      "epoch 38   iteration 1064, train accuracy: 0.82, loss: 0.4711\n"
     ]
    },
    {
     "name": "stderr",
     "output_type": "stream",
     "text": [
      "                                               \r"
     ]
    },
    {
     "name": "stdout",
     "output_type": "stream",
     "text": [
      "\n",
      "==================================================\n",
      "epoch 38\n",
      "validation accuracy - 0.84\n",
      "validation loss\t- 0.3703\n",
      "==================================================\n",
      "\n"
     ]
    },
    {
     "name": "stderr",
     "output_type": "stream",
     "text": [
      "  4%|▎         | 1/28 [00:00<00:19,  1.37it/s]"
     ]
    },
    {
     "name": "stdout",
     "output_type": "stream",
     "text": [
      "epoch 39   iteration 1092, train accuracy: 0.88, loss: 0.4044\n"
     ]
    },
    {
     "name": "stderr",
     "output_type": "stream",
     "text": [
      "                                               \r"
     ]
    },
    {
     "name": "stdout",
     "output_type": "stream",
     "text": [
      "\n",
      "==================================================\n",
      "epoch 39\n",
      "validation accuracy - 0.84\n",
      "validation loss\t- 0.3661\n",
      "==================================================\n",
      "\n"
     ]
    },
    {
     "name": "stderr",
     "output_type": "stream",
     "text": [
      "  4%|▎         | 1/28 [00:00<00:19,  1.35it/s]"
     ]
    },
    {
     "name": "stdout",
     "output_type": "stream",
     "text": [
      "epoch 40   iteration 1120, train accuracy: 0.82, loss: 0.4917\n"
     ]
    },
    {
     "name": "stderr",
     "output_type": "stream",
     "text": [
      "                                               \r"
     ]
    },
    {
     "name": "stdout",
     "output_type": "stream",
     "text": [
      "\n",
      "==================================================\n",
      "epoch 40\n",
      "validation accuracy - 0.84\n",
      "validation loss\t- 0.3596\n",
      "==================================================\n",
      "\n"
     ]
    },
    {
     "name": "stderr",
     "output_type": "stream",
     "text": [
      "  4%|▎         | 1/28 [00:01<00:27,  1.00s/it]"
     ]
    },
    {
     "name": "stdout",
     "output_type": "stream",
     "text": [
      "epoch 41   iteration 1148, train accuracy: 0.86, loss: 0.4171\n"
     ]
    },
    {
     "name": "stderr",
     "output_type": "stream",
     "text": [
      "                                               \r"
     ]
    },
    {
     "name": "stdout",
     "output_type": "stream",
     "text": [
      "\n",
      "==================================================\n",
      "epoch 41\n",
      "validation accuracy - 0.84\n",
      "validation loss\t- 0.3617\n",
      "==================================================\n",
      "\n"
     ]
    },
    {
     "name": "stderr",
     "output_type": "stream",
     "text": [
      "  4%|▎         | 1/28 [00:00<00:20,  1.31it/s]"
     ]
    },
    {
     "name": "stdout",
     "output_type": "stream",
     "text": [
      "epoch 42   iteration 1176, train accuracy: 0.85, loss: 0.3886\n"
     ]
    },
    {
     "name": "stderr",
     "output_type": "stream",
     "text": [
      "                                               \r"
     ]
    },
    {
     "name": "stdout",
     "output_type": "stream",
     "text": [
      "\n",
      "==================================================\n",
      "epoch 42\n",
      "validation accuracy - 0.84\n",
      "validation loss\t- 0.3663\n",
      "==================================================\n",
      "\n"
     ]
    },
    {
     "name": "stderr",
     "output_type": "stream",
     "text": [
      "  4%|▎         | 1/28 [00:00<00:20,  1.33it/s]"
     ]
    },
    {
     "name": "stdout",
     "output_type": "stream",
     "text": [
      "epoch 43   iteration 1204, train accuracy: 0.81, loss: 0.4374\n"
     ]
    },
    {
     "name": "stderr",
     "output_type": "stream",
     "text": [
      "                                               \r"
     ]
    },
    {
     "name": "stdout",
     "output_type": "stream",
     "text": [
      "\n",
      "==================================================\n",
      "epoch 43\n",
      "validation accuracy - 0.85\n",
      "validation loss\t- 0.3613\n",
      "model is saved because mean_accuracy = 0.85 and it's best\n",
      "==================================================\n",
      "\n"
     ]
    },
    {
     "name": "stderr",
     "output_type": "stream",
     "text": [
      "  4%|▎         | 1/28 [00:00<00:23,  1.16it/s]"
     ]
    },
    {
     "name": "stdout",
     "output_type": "stream",
     "text": [
      "epoch 44   iteration 1232, train accuracy: 0.80, loss: 0.4519\n"
     ]
    },
    {
     "name": "stderr",
     "output_type": "stream",
     "text": [
      "                                               \r"
     ]
    },
    {
     "name": "stdout",
     "output_type": "stream",
     "text": [
      "\n",
      "==================================================\n",
      "epoch 44\n",
      "validation accuracy - 0.84\n",
      "validation loss\t- 0.3580\n",
      "==================================================\n",
      "\n"
     ]
    },
    {
     "name": "stderr",
     "output_type": "stream",
     "text": [
      "  4%|▎         | 1/28 [00:00<00:18,  1.45it/s]"
     ]
    },
    {
     "name": "stdout",
     "output_type": "stream",
     "text": [
      "epoch 45   iteration 1260, train accuracy: 0.85, loss: 0.4069\n"
     ]
    },
    {
     "name": "stderr",
     "output_type": "stream",
     "text": [
      "                                               \r"
     ]
    },
    {
     "name": "stdout",
     "output_type": "stream",
     "text": [
      "\n",
      "==================================================\n",
      "epoch 45\n",
      "validation accuracy - 0.85\n",
      "validation loss\t- 0.3558\n",
      "==================================================\n",
      "\n"
     ]
    },
    {
     "name": "stderr",
     "output_type": "stream",
     "text": [
      "  4%|▎         | 1/28 [00:00<00:25,  1.06it/s]"
     ]
    },
    {
     "name": "stdout",
     "output_type": "stream",
     "text": [
      "epoch 46   iteration 1288, train accuracy: 0.82, loss: 0.4162\n"
     ]
    },
    {
     "name": "stderr",
     "output_type": "stream",
     "text": [
      "                                               \r"
     ]
    },
    {
     "name": "stdout",
     "output_type": "stream",
     "text": [
      "\n",
      "==================================================\n",
      "epoch 46\n",
      "validation accuracy - 0.84\n",
      "validation loss\t- 0.3587\n",
      "==================================================\n",
      "\n"
     ]
    },
    {
     "name": "stderr",
     "output_type": "stream",
     "text": [
      "  4%|▎         | 1/28 [00:00<00:23,  1.17it/s]"
     ]
    },
    {
     "name": "stdout",
     "output_type": "stream",
     "text": [
      "epoch 47   iteration 1316, train accuracy: 0.86, loss: 0.3801\n"
     ]
    },
    {
     "name": "stderr",
     "output_type": "stream",
     "text": [
      "                                               \r"
     ]
    },
    {
     "name": "stdout",
     "output_type": "stream",
     "text": [
      "\n",
      "==================================================\n",
      "epoch 47\n",
      "validation accuracy - 0.85\n",
      "validation loss\t- 0.3475\n",
      "==================================================\n",
      "\n"
     ]
    },
    {
     "name": "stderr",
     "output_type": "stream",
     "text": [
      "  4%|▎         | 1/28 [00:00<00:19,  1.39it/s]"
     ]
    },
    {
     "name": "stdout",
     "output_type": "stream",
     "text": [
      "epoch 48   iteration 1344, train accuracy: 0.81, loss: 0.4957\n"
     ]
    },
    {
     "name": "stderr",
     "output_type": "stream",
     "text": [
      "                                               \r"
     ]
    },
    {
     "name": "stdout",
     "output_type": "stream",
     "text": [
      "\n",
      "==================================================\n",
      "epoch 48\n",
      "validation accuracy - 0.85\n",
      "validation loss\t- 0.3472\n",
      "==================================================\n",
      "\n"
     ]
    },
    {
     "name": "stderr",
     "output_type": "stream",
     "text": [
      "  4%|▎         | 1/28 [00:00<00:19,  1.35it/s]"
     ]
    },
    {
     "name": "stdout",
     "output_type": "stream",
     "text": [
      "epoch 49   iteration 1372, train accuracy: 0.83, loss: 0.4559\n"
     ]
    },
    {
     "name": "stderr",
     "output_type": "stream",
     "text": [
      "                                               \r"
     ]
    },
    {
     "name": "stdout",
     "output_type": "stream",
     "text": [
      "\n",
      "==================================================\n",
      "epoch 49\n",
      "validation accuracy - 0.85\n",
      "validation loss\t- 0.3490\n",
      "==================================================\n",
      "\n"
     ]
    }
   ],
   "source": [
    "conv_model = Train(model, EPOCHS=50)"
   ]
  },
  {
   "cell_type": "code",
   "execution_count": 14,
   "metadata": {},
   "outputs": [
    {
     "data": {
      "image/png": "[encoded data removed]",
      "text/plain": [
       "<Figure size 640x480 with 1 Axes>"
      ]
     },
     "metadata": {},
     "output_type": "display_data"
    }
   ],
   "source": [
    "conv_model.loss_plot_show()"
   ]
  },
  {
   "cell_type": "code",
   "execution_count": 15,
   "metadata": {},
   "outputs": [
    {
     "data": {
      "image/png": "[encoded data removed]",
      "text/plain": [
       "<Figure size 640x480 with 1 Axes>"
      ]
     },
     "metadata": {},
     "output_type": "display_data"
    }
   ],
   "source": [
    "conv_model.acc_plot_show()"
   ]
  },
  {
   "cell_type": "markdown",
   "metadata": {},
   "source": [
    "##### на графике видно, что точноть растет скачками вниз-вверх и точность на трейне и валидации стремится быть одинаковой"
   ]
  },
  {
   "cell_type": "code",
   "execution_count": 18,
   "metadata": {},
   "outputs": [
    {
     "name": "stderr",
     "output_type": "stream",
     "text": [
      "                                               "
     ]
    },
    {
     "name": "stdout",
     "output_type": "stream",
     "text": [
      "test accuracy - 0.86\n"
     ]
    },
    {
     "name": "stderr",
     "output_type": "stream",
     "text": [
      "\r"
     ]
    },
    {
     "data": {
      "text/plain": [
       "<__main__.Test at 0x23f7bc09e20>"
      ]
     },
     "execution_count": 18,
     "metadata": {},
     "output_type": "execute_result"
    }
   ],
   "source": [
    "Test(conv_model.get_model())"
   ]
  },
  {
   "cell_type": "markdown",
   "metadata": {},
   "source": [
    "##### точность на тесте такая же как на валидации"
   ]
  },
  {
   "cell_type": "markdown",
   "metadata": {},
   "source": []
  }
 ],
 "metadata": {
  "kernelspec": {
   "display_name": "Python 3",
   "language": "python",
   "name": "python3"
  },
  "language_info": {
   "codemirror_mode": {
    "name": "ipython",
    "version": 3
   },
   "file_extension": ".py",
   "mimetype": "text/x-python",
   "name": "python",
   "nbconvert_exporter": "python",
   "pygments_lexer": "ipython3",
   "version": "3.9.13"
  }
 },
 "nbformat": 4,
 "nbformat_minor": 2
}
